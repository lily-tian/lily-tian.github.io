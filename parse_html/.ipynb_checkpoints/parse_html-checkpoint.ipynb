{
 "cells": [
  {
   "cell_type": "code",
   "execution_count": 1,
   "metadata": {
    "collapsed": true
   },
   "outputs": [],
   "source": [
    "# imports libaries\n",
    "import re \t\t\t\t\t\t\t# regular expression\n",
    "import datetime \t\t\t\t\t# dates\n",
    "from bs4 import BeautifulSoup\t\t# HTML parsing"
   ]
  },
  {
   "cell_type": "code",
   "execution_count": 2,
   "metadata": {},
   "outputs": [],
   "source": [
    "# sets page names\n",
    "css_name = 'jupn.css'\n",
    "html_name = 'ff_analysis.html'\n",
    "title_name = 'Just Fanfiction Statistics'\n",
    "\n",
    "# sets current year\n",
    "cdate = '1999-12-31'\n",
    "cdate = str(datetime.datetime.now()).split()[0]\n",
    "date = datetime.datetime.strptime(cdate, '%Y-%m-%d')\n",
    "date = date.strftime('%d %b %Y')"
   ]
  },
  {
   "cell_type": "code",
   "execution_count": 3,
   "metadata": {
    "collapsed": true
   },
   "outputs": [],
   "source": [
    "# gets content page\n",
    "content = open('story_analysis.html', 'r')\n",
    "content_soup = BeautifulSoup(content, 'html.parser')\n",
    "content.close()"
   ]
  },
  {
   "cell_type": "code",
   "execution_count": 4,
   "metadata": {
    "collapsed": true
   },
   "outputs": [],
   "source": [
    "# gets css of content page\n",
    "style = ''\n",
    "for style_block in content_soup.find_all('style'):\n",
    "    style = style + style_block.text + '\\n'\n",
    "    \n",
    "# removes outer grey border from css\n",
    "regex1 = re.compile(r'-webkit-box-shadow:.*;\\n')\n",
    "regex2 = re.compile(r'box-shadow:.*;\\n')\n",
    "style = re.sub(regex1, '', style)\n",
    "style = re.sub(regex2, '', style)\n",
    "\n",
    "# removes override\n",
    "comment = '/* Overrides'\n",
    "style = style.partition(comment)[0]\n",
    "\n",
    "# remove margins\n",
    "regex1 = re.compile(r'margin-left:.*;\\n')\n",
    "regex2 = re.compile(r'margin-right:.*;\\n')\n",
    "style = re.sub(regex1, '', style)\n",
    "style = re.sub(regex2, '', style)"
   ]
  },
  {
   "cell_type": "code",
   "execution_count": 5,
   "metadata": {},
   "outputs": [],
   "source": [
    "# gets body of content page\n",
    "body = content_soup.find('body')\n",
    "\n",
    "# removes input boxes \n",
    "for inputs in body.find_all('div', {'class': 'input'}):\n",
    "    inputs.replaceWith('')\n",
    "    \n",
    "# removes jupyter fonts and indents\n",
    "for inputs in body.find_all('div', {'class': 'prompt input_prompt'}):\n",
    "    inputs.replaceWith('')\n",
    "for inputs in body.find_all('div', {'class': 'text_cell_render'}):\n",
    "    inputs['class'].remove('text_cell_render')\n",
    "for inputs in body.find_all('div', {'class': 'rendered_html'}):\n",
    "    inputs['class'].remove('rendered_html')"
   ]
  },
  {
   "cell_type": "code",
   "execution_count": 6,
   "metadata": {},
   "outputs": [
    {
     "data": {
      "text/plain": [
       "<strong>INSERTCONTENT</strong>"
      ]
     },
     "execution_count": 6,
     "metadata": {},
     "output_type": "execute_result"
    }
   ],
   "source": [
    "# gets shell\n",
    "shell = open('shell.html', 'r')\n",
    "shell_soup = BeautifulSoup(shell, 'html.parser')\n",
    "shell.close()\n",
    "\n",
    "# sets link to content css\n",
    "shell_soup.find('link', {'id': 'custom'})['href'] = css_name\n",
    "\n",
    "# sets title of post\n",
    "shell_soup.find('a', {'id': 'post-title'}).string = title_name\n",
    "\n",
    "# sets title of post\n",
    "shell_soup.find('a', {'id': 'post-date'}).string = date\n",
    "\n",
    "# sets content to content page\n",
    "shell_soup.find('strong').replaceWith(body)"
   ]
  },
  {
   "cell_type": "code",
   "execution_count": 7,
   "metadata": {
    "collapsed": true
   },
   "outputs": [],
   "source": [
    "# writes out css file\n",
    "css = open('../' + css_name, 'w')\n",
    "css.write(BeautifulSoup(style, 'html.parser').prettify())\n",
    "css.close()\n",
    "\n",
    "# writes out html file\n",
    "html = open('../' + html_name, 'wb')\n",
    "html.write(shell_soup.prettify().encode('utf8'))\n",
    "html.close()"
   ]
  }
 ],
 "metadata": {
  "kernelspec": {
   "display_name": "Python 3",
   "language": "python",
   "name": "python3"
  },
  "language_info": {
   "codemirror_mode": {
    "name": "ipython",
    "version": 3
   },
   "file_extension": ".py",
   "mimetype": "text/x-python",
   "name": "python",
   "nbconvert_exporter": "python",
   "pygments_lexer": "ipython3",
   "version": "3.6.1"
  }
 },
 "nbformat": 4,
 "nbformat_minor": 2
}
